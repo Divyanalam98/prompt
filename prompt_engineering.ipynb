{
  "cells": [
    {
      "cell_type": "code",
      "source": [
        "!pip install openai"
      ],
      "metadata": {
        "colab": {
          "base_uri": "https://localhost:8080/"
        },
        "id": "lBVBG6pGw-xF",
        "outputId": "d3793601-9519-479c-a1a8-1ce185a97c30"
      },
      "execution_count": 44,
      "outputs": [
        {
          "output_type": "stream",
          "name": "stdout",
          "text": [
            "Looking in indexes: https://pypi.org/simple, https://us-python.pkg.dev/colab-wheels/public/simple/\n",
            "Requirement already satisfied: openai in /usr/local/lib/python3.10/dist-packages (0.27.6)\n",
            "Requirement already satisfied: requests>=2.20 in /usr/local/lib/python3.10/dist-packages (from openai) (2.27.1)\n",
            "Requirement already satisfied: tqdm in /usr/local/lib/python3.10/dist-packages (from openai) (4.65.0)\n",
            "Requirement already satisfied: aiohttp in /usr/local/lib/python3.10/dist-packages (from openai) (3.8.4)\n",
            "Requirement already satisfied: urllib3<1.27,>=1.21.1 in /usr/local/lib/python3.10/dist-packages (from requests>=2.20->openai) (1.26.15)\n",
            "Requirement already satisfied: certifi>=2017.4.17 in /usr/local/lib/python3.10/dist-packages (from requests>=2.20->openai) (2022.12.7)\n",
            "Requirement already satisfied: charset-normalizer~=2.0.0 in /usr/local/lib/python3.10/dist-packages (from requests>=2.20->openai) (2.0.12)\n",
            "Requirement already satisfied: idna<4,>=2.5 in /usr/local/lib/python3.10/dist-packages (from requests>=2.20->openai) (3.4)\n",
            "Requirement already satisfied: attrs>=17.3.0 in /usr/local/lib/python3.10/dist-packages (from aiohttp->openai) (23.1.0)\n",
            "Requirement already satisfied: multidict<7.0,>=4.5 in /usr/local/lib/python3.10/dist-packages (from aiohttp->openai) (6.0.4)\n",
            "Requirement already satisfied: async-timeout<5.0,>=4.0.0a3 in /usr/local/lib/python3.10/dist-packages (from aiohttp->openai) (4.0.2)\n",
            "Requirement already satisfied: yarl<2.0,>=1.0 in /usr/local/lib/python3.10/dist-packages (from aiohttp->openai) (1.9.2)\n",
            "Requirement already satisfied: frozenlist>=1.1.1 in /usr/local/lib/python3.10/dist-packages (from aiohttp->openai) (1.3.3)\n",
            "Requirement already satisfied: aiosignal>=1.1.2 in /usr/local/lib/python3.10/dist-packages (from aiohttp->openai) (1.3.1)\n"
          ]
        }
      ]
    },
    {
      "cell_type": "code",
      "source": [
        "!pip install python-dotenv"
      ],
      "metadata": {
        "colab": {
          "base_uri": "https://localhost:8080/"
        },
        "id": "Ljt_Zsj0xGAC",
        "outputId": "baeb545b-c4ff-406b-fc8b-51bb8183f31d"
      },
      "execution_count": null,
      "outputs": [
        {
          "output_type": "stream",
          "name": "stdout",
          "text": [
            "Looking in indexes: https://pypi.org/simple, https://us-python.pkg.dev/colab-wheels/public/simple/\n",
            "Collecting python-dotenv\n",
            "  Downloading python_dotenv-1.0.0-py3-none-any.whl (19 kB)\n",
            "Installing collected packages: python-dotenv\n",
            "Successfully installed python-dotenv-1.0.0\n"
          ]
        }
      ]
    },
    {
      "cell_type": "code",
      "execution_count": 49,
      "metadata": {
        "id": "2H4ZSuNRwxbA"
      },
      "outputs": [],
      "source": [
        "import os\n",
        "import openai\n",
        "os.environ['OPENAI_API_KEY'] = '****'\n"
      ]
    },
    {
      "cell_type": "code",
      "execution_count": 50,
      "metadata": {
        "id": "BNKSXqEFwxbD"
      },
      "outputs": [],
      "source": [
        "def get_completion(prompt, model=\"gpt-3.5-turbo\"):\n",
        "    messages = [{\"role\": \"user\", \"content\": prompt}]\n",
        "    response = openai.ChatCompletion.create(\n",
        "        model=model,\n",
        "        messages=messages,\n",
        "        temperature=0,\n",
        "    )\n",
        "    return response.choices[0].message[\"content\"]\n",
        "\n",
        "def get_completion_from_messages(messages, model=\"gpt-3.5-turbo\", temperature=0):\n",
        "    response = openai.ChatCompletion.create(\n",
        "        model=model,\n",
        "        messages=messages,\n",
        "        temperature=temperature,\n",
        "    )\n",
        "    return response.choices[0].message[\"content\"]"
      ]
    },
    {
      "cell_type": "code",
      "execution_count": 51,
      "metadata": {
        "id": "FQ2duStbwxbF"
      },
      "outputs": [],
      "source": [
        "messages = [\n",
        "    {'role': 'system', 'content': 'You are an assistant that solves problems.'},\n",
        "    {'role': 'user', 'content': 'please solve complex math problem : integral of e^x'}\n",
        "]"
      ]
    },
    {
      "cell_type": "code",
      "execution_count": 53,
      "metadata": {
        "colab": {
          "base_uri": "https://localhost:8080/"
        },
        "id": "qzZJFPZGwxbH",
        "outputId": "b553b561-befa-454c-a5e9-2b491da52f8a"
      },
      "outputs": [
        {
          "output_type": "stream",
          "name": "stdout",
          "text": [
            "The integral of e^x is simply e^x + C, where C is the constant of integration. Therefore, the indefinite integral of e^x is:\n",
            "\n",
            " ∫ e^x dx = e^x + C\n",
            "\n",
            "Note that e is a constant, approximately equal to 2.71828...\n"
          ]
        }
      ],
      "source": [
        "openai.api_key = '****'\n",
        "response = get_completion_from_messages(messages, temperature=1)\n",
        "print(response)\n"
      ]
    },
    {
      "cell_type": "code",
      "execution_count": 54,
      "metadata": {
        "id": "Ml_kvBfGwxbK",
        "outputId": "83ab424e-017e-44f8-b14d-83385b382f57",
        "colab": {
          "base_uri": "https://localhost:8080/"
        }
      },
      "outputs": [
        {
          "output_type": "stream",
          "name": "stdout",
          "text": [
            "Certainly! Here's the code for summing two numbers in Python:\n",
            "\n",
            "```\n",
            "num1 = 5\n",
            "num2 = 7\n",
            "sum = num1 + num2\n",
            "print(\"The sum of {} and {} is {}\".format(num1, num2, sum))\n",
            "```\n",
            "\n",
            "This code sets the values of `num1` and `num2` to 5 and 7, respectively, then adds them together and stores the result in a variable called `sum`. Finally, the program prints out a message displaying the original numbers and the sum. \n",
            "\n",
            "You can replace the numbers with any values you want to add together.\n"
          ]
        }
      ],
      "source": [
        "messages =  [  \n",
        "{'role':'system', 'content':'You are an assistant that provides code.'},    \n",
        "{'role':'user', 'content':'please provide code for sum of two numbers '}  ]\n",
        "response = get_completion_from_messages(messages, temperature=1)\n",
        "print(response)"
      ]
    },
    {
      "cell_type": "code",
      "execution_count": 57,
      "metadata": {
        "id": "-jaLxP9HwxbK",
        "outputId": "cc2413c3-ff85-421c-9346-6918528377c3",
        "colab": {
          "base_uri": "https://localhost:8080/"
        }
      },
      "outputs": [
        {
          "output_type": "stream",
          "name": "stdout",
          "text": [
            "Sure! \n",
            "\n",
            "- You asked me to solve the complex math problem of integrating e^x, to which I replied with the solution.\n",
            "- You then asked me to provide code for the sum of two numbers, to which I would suggest using the following code in Python:\n",
            "\n",
            "```\n",
            "a = 5\n",
            "b = 10\n",
            "print(a + b)\n",
            "```\n",
            "\n",
            "That's essentially it! Let me know if you have any other questions or requests.\n"
          ]
        }
      ],
      "source": [
        "messages = [\n",
        "    {'role': 'system', 'content': 'You are an assistant that solves problems.'},\n",
        "    {'role': 'user', 'content': 'please solve complex math problem : integral of e^x'},\n",
        "    {'role':'system', 'content':'You are an assistant that provides code.'},\n",
        "    {'role':'user', 'content':'please provide code for sum of two numbers '}, \n",
        "    {'role': 'user', 'content': 'Can you summarize our conversation?'}\n",
        "]\n",
        "response = get_completion_from_messages(messages, temperature=1)\n",
        "print(response)\n"
      ]
    }
  ],
  "metadata": {
    "kernelspec": {
      "display_name": "Python 3 (ipykernel)",
      "language": "python",
      "name": "python3"
    },
    "language_info": {
      "codemirror_mode": {
        "name": "ipython",
        "version": 3
      },
      "file_extension": ".py",
      "mimetype": "text/x-python",
      "name": "python",
      "nbconvert_exporter": "python",
      "pygments_lexer": "ipython3",
      "version": "3.9.12"
    },
    "colab": {
      "provenance": []
    }
  },
  "nbformat": 4,
  "nbformat_minor": 0
}